{
 "cells": [
  {
   "cell_type": "code",
   "execution_count": 2,
   "metadata": {},
   "outputs": [],
   "source": [
    "import csv\n",
    "import numpy as np # if not installed use \"pip iinstall numpy\""
   ]
  },
  {
   "cell_type": "markdown",
   "metadata": {},
   "source": [
    "## load_dataset_module.py"
   ]
  },
  {
   "cell_type": "code",
   "execution_count": 5,
   "metadata": {},
   "outputs": [],
   "source": [
    "# list of features to retrive from the dataset\n",
    "features_to_retrieve = ['acousticness', 'artists', 'danceability', 'energy', 'id', 'liveness',\n",
    "                            'loudness', 'name', 'popularity', 'speechiness', 'tempo','valence']\n"
   ]
  },
  {
   "cell_type": "code",
   "execution_count": 10,
   "metadata": {},
   "outputs": [],
   "source": [
    "def load_dataset():\n",
    "    \"\"\"\n",
    "    This fuction loads the dataset.csv and stores it in a dictionary,\n",
    "    the dataset column names and its values being used as key-value pair in dictionary\n",
    "    return:\n",
    "        a dictionary format of the dataset\n",
    "    \"\"\"\n",
    "    def get_mulList(*args):\n",
    "        return map(list, zip(*args))\n",
    "\n",
    "    csv_data = open(\"data.csv\", encoding='utf-8')\n",
    "    data = list(csv.reader(csv_data))\n",
    "    data_dict = dict(zip(data[0], get_mulList(*data[1:])))\n",
    "    for key in list(data_dict.keys()):\n",
    "        if key not in features_to_retrieve:\n",
    "            del data_dict[key]\n",
    "    return data_dict\n"
   ]
  },
  {
   "cell_type": "code",
   "execution_count": 7,
   "metadata": {},
   "outputs": [],
   "source": [
    "# load the dataset\n",
    "data_dict = load_dataset()"
   ]
  },
  {
   "cell_type": "code",
   "execution_count": 12,
   "metadata": {},
   "outputs": [],
   "source": [
    "def artist_music_func():\n",
    "    \"\"\"\n",
    "    This function returns artist music dictionary contains artists name, music name, and corresponding features\n",
    "    \"\"\"\n",
    "    artist_music_dict = {}\n",
    "    artist_music_features = ['artists', 'name', 'id', 'acousticness', 'danceability', 'energy', 'liveness',\n",
    "                             'loudness', 'popularity', 'speechiness', 'tempo', 'valence']\n",
    "    for key, value in data_dict.items():\n",
    "        if key in artist_music_features:\n",
    "            artist_music_dict[key] = value\n",
    "    return artist_music_dict"
   ]
  },
  {
   "cell_type": "code",
   "execution_count": 13,
   "metadata": {},
   "outputs": [],
   "source": [
    "def music_features_func():\n",
    "    \"\"\"\n",
    "    This fuction returns  music_features dictionary contains music id, and their respective features.\n",
    "    \"\"\"\n",
    "    music_features_dict = {}\n",
    "    music_features = ['id', 'acousticness', 'danceability', 'energy', 'liveness',\n",
    "                             'loudness', 'popularity', 'speechiness', 'tempo', 'valence']\n",
    "    for key, value in data_dict.items():\n",
    "        if key in music_features:\n",
    "            music_features_dict[key] = value\n",
    "    return music_features_dict"
   ]
  },
  {
   "cell_type": "markdown",
   "metadata": {},
   "source": [
    "## similarity_module.py"
   ]
  },
  {
   "cell_type": "markdown",
   "metadata": {},
   "source": [
    "import numpy as np\n",
    "\n",
    "from load_dataset_module import artist_music_func, music_features_func"
   ]
  },
  {
   "cell_type": "code",
   "execution_count": 1,
   "metadata": {},
   "outputs": [],
   "source": [
    "def helper_func(data_dict):\n",
    "    \"\"\"\n",
    "    This function helps modified the data_dict\n",
    "    such that the id which is unique for each entry of the dataset is now set as the keys of the dictionary,\n",
    "    while the corresponding features are now values of the dictionary\n",
    "\n",
    "    return:\n",
    "            a dictionary where the id is the key and others set as value.\n",
    "    \"\"\"\n",
    "    numeric_features = ['acousticness', 'danceability', 'energy', 'liveness',\n",
    "                        'loudness', 'popularity', 'speechiness', 'tempo', 'valence']\n",
    "    numerical_feature_values = []\n",
    "    for key in data_dict.keys():\n",
    "        if key in numeric_features:\n",
    "            numerical_feature_values.append(data_dict[key])\n",
    "    numerical_feature_values = np.array(numerical_feature_values, dtype=float).T    \n",
    "    id_and_numeric_features_dict = dict(zip(data_dict['id'], numerical_feature_values))\n",
    "    return id_and_numeric_features_dict\n"
   ]
  },
  {
   "cell_type": "code",
   "execution_count": 2,
   "metadata": {},
   "outputs": [],
   "source": [
    "\n",
    "def euclidean_similarity(data_dict, id_1, id_2):\n",
    "    \"\"\"\n",
    "    Compute Eculidean similarity between two ids using their numerical values\n",
    "    and returns the result\n",
    "    \"\"\"\n",
    "    id_value_1 = data_dict[id_1]\n",
    "    id_value_2 = data_dict[id_2]\n",
    "    euc_sim = np.linalg.norm(id_value_1 - id_value_2)\n",
    "    return euc_sim\n",
    "\n",
    "\n",
    "def cosine_similarity(data_dict, id_1, id_2):\n",
    "    \"\"\"\n",
    "    Compute Cosine similarity between two ids using their numerical values\n",
    "    and returns the result\n",
    "    \"\"\"\n",
    "    id_value_1 = data_dict[id_1]\n",
    "    id_value_2 = data_dict[id_2]\n",
    "    cos_sim = np.dot(id_value_1, id_value_2) / (np.linalg.norm(id_value_1) * np.linalg.norm(id_value_2))\n",
    "    return cos_sim\n",
    "\n",
    "def pearson_similarity(data_dict, id_1, id_2):\n",
    "    \"\"\"\n",
    "    Compute Pearson similarity between two ids using their numerical values\n",
    "    and returns the result\n",
    "    \"\"\"\n",
    "    id_value_1 = data_dict[id_1]\n",
    "    id_value_2 = data_dict[id_2]\n",
    "    ps_sim = np.corrcoef(id_value_1, id_value_2)[0, 1]\n",
    "    return ps_sim\n",
    "\n",
    "def jaccard_similarity(data_dict, id_1, id_2):\n",
    "    \"\"\"\n",
    "    Compute Jaccard similarity between two ids using their numerical values\n",
    "    and returns the result\n",
    "    \"\"\"\n",
    "    id_value_1 = data_dict[id_1]\n",
    "    id_value_2 = data_dict[id_2]\n",
    "    intersection = len(list(set(id_value_1).intersection(id_value_2)))\n",
    "    union = (len(id_value_1) + len(id_value_2)) - intersection\n",
    "    return float(intersection) / union\n",
    "\n",
    "def manhattan_similarity(data_dict, id_1, id_2):\n",
    "    \"\"\"\n",
    "    Compute Manhattan similarity between two ids using their numerical values\n",
    "    and returns the result\n",
    "    \"\"\"\n",
    "    id_value_1 = data_dict[id_1]\n",
    "    id_value_2 = data_dict[id_2]\n",
    "    mah_sim = np.abs(id_value_1 - id_value_2).sum()\n",
    "    return mah_sim\n"
   ]
  },
  {
   "cell_type": "code",
   "execution_count": null,
   "metadata": {},
   "outputs": [],
   "source": [
    "artist_music_dict = artist_music_func()\n",
    "music_features_dict = music_features_func()"
   ]
  },
  {
   "cell_type": "code",
   "execution_count": 17,
   "metadata": {},
   "outputs": [],
   "source": [
    "def compute_similarity(id_1, id_2, similarity_func):\n",
    "    \"\"\"\n",
    "    This functions take two ids and the a similarity metric\n",
    "    then carries out mathematical computation using the numerical values of the ids\n",
    "    using the similarity metric pass and return the result.\n",
    "    \"\"\"\n",
    "    ids_as_keys_dict = helper_func(music_features_dict)\n",
    "    list_of_ids = ids_as_keys_dict.keys()\n",
    "    if (id_1 in list_of_ids) and (id_2 in list_of_ids):\n",
    "        result = similarity_func(ids_as_keys_dict, id_1, id_2)\n",
    "        return result\n",
    "    else:\n",
    "        print(\"Ids not found\")"
   ]
  },
  {
   "cell_type": "markdown",
   "metadata": {},
   "source": [
    "###### The main function the implementaion takes place "
   ]
  },
  {
   "cell_type": "code",
   "execution_count": null,
   "metadata": {},
   "outputs": [],
   "source": [
    "def main():\n",
    "    id1 = input(\"Enter the first music_id or artist_id: \")\n",
    "    id2 = input(\"Enter the second music_id or artist_id: \")\n",
    "    metric_choice = input(\"What similarity metric to use?\\n\\\n",
    "                          Enter 1 for euclidean_similarity\\n\\\n",
    "                          Enter 2 for cosine_similarity\\n\\\n",
    "                          Enter 3 for pearson_similarity\\n\\\n",
    "                          Enter 4 for jaccard_similarity\\n\\\n",
    "                          Enter 5 for manhattan_similarity\\n\")\n",
    "\n",
    "    metric_dict = {\"1\":euclidean_similarity, \"2\":cosine_similarity, \n",
    "                    \"3\": pearson_similarity, \"4\":jaccard_similarity, \"5\":manhattan_similarity}\n",
    "    if metric_choice in metric_dict.keys():\n",
    "        final_value = compute_similarity(id1, id2, metric_dict[metric_choice])\n",
    "        if final_value:\n",
    "            display_sim = ['##','euclidean_similarity','cosine_similarity', 'pearson_similarity', 'jaccard_similarity', 'manhattan_similarity']\n",
    "            print(\"The {} between music_id: {} and music_id: {} is {}\".format(display_sim[int(metric_choice)], id1, id2, final_value))\n",
    "            \n",
    "if __name__ == \"__main__\":\n",
    "    main()"
   ]
  }
 ],
 "metadata": {
  "kernelspec": {
   "display_name": "Python 3",
   "language": "python",
   "name": "python3"
  },
  "language_info": {
   "codemirror_mode": {
    "name": "ipython",
    "version": 3
   },
   "file_extension": ".py",
   "mimetype": "text/x-python",
   "name": "python",
   "nbconvert_exporter": "python",
   "pygments_lexer": "ipython3",
   "version": "3.8.3"
  }
 },
 "nbformat": 4,
 "nbformat_minor": 4
}
